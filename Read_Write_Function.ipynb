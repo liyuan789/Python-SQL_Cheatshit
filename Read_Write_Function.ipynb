{
 "cells": [
  {
   "cell_type": "markdown",
   "metadata": {},
   "source": [
    "### 考点：Read Function / Write Function\n",
    "**Problem 1_Midterm 2**"
   ]
  },
  {
   "cell_type": "code",
   "execution_count": 87,
   "metadata": {},
   "outputs": [
    {
     "data": {
      "text/plain": [
       "array([[3, 1, 3],\n",
       "       [5, 2, 4]])"
      ]
     },
     "execution_count": 87,
     "metadata": {},
     "output_type": "execute_result"
    }
   ],
   "source": [
    "import numpy as np\n",
    "import pandas as pd\n",
    "\n",
    "def mystery_function(A,p,q):\n",
    "    \n",
    "    (n,m) = A.shape\n",
    "    foo = False\n",
    "    \n",
    "    if max(p,q)>m | (p==q):\n",
    "        foo = \"not possible\"\n",
    "    else:\n",
    "        foo = A[A.T[p].argsort()]\n",
    "        bar = set(A.T[p])\n",
    "        for x in bar:\n",
    "            Ax = A[A.T[p]==x]\n",
    "            foo[foo.T[p]==x] = Ax[Ax.T[q].argsort()]\n",
    "    \n",
    "    return foo\n",
    "\n",
    "mystery_function(np.array([[3,1,3],[5,2,4]]), 1, 2) # n=2, m=3"
   ]
  },
  {
   "cell_type": "markdown",
   "metadata": {},
   "source": [
    "The function sorts the array A first by the values in column p, and then, if there are ties in column p also by the values in column q. "
   ]
  },
  {
   "cell_type": "markdown",
   "metadata": {},
   "source": [
    "**Problem 2_Practice 2**\n",
    "\n",
    "Write a Python program called \"k_smallest\" to find the kth smallest value (and it's position(s) as a array of coordinates) in a given NumPy array (of any dimension).\n",
    "\n",
    "**Example**: X = np.array([[[3,0,3,4],[6,6,1,8],[5,3,5,0]],[[3,0,3,8],[7,3,2,7],[8,6,2,5]]]) k_smallest(X,3) = (2, array([[1, 1, 2],[1, 2, 2]]))"
   ]
  },
  {
   "cell_type": "code",
   "execution_count": 54,
   "metadata": {},
   "outputs": [
    {
     "name": "stdout",
     "output_type": "stream",
     "text": [
      "[0, 1, 2, 3, 4, 5, 6, 7, 8]\n",
      "[[[False False False False]\n",
      "  [False False False False]\n",
      "  [False False False False]]\n",
      "\n",
      " [[False False False False]\n",
      "  [False False  True False]\n",
      "  [False False  True False]]]\n"
     ]
    },
    {
     "data": {
      "text/plain": [
       "(2, array([[1, 1, 2],\n",
       "        [1, 2, 2]]))"
      ]
     },
     "execution_count": 54,
     "metadata": {},
     "output_type": "execute_result"
    }
   ],
   "source": [
    "def k_smallest(array, k):\n",
    "    \n",
    "    val = list(set(array.flatten()))[k-1] # find the k-th smallest value\n",
    "    print(list(set(array.flatten())))\n",
    "    \n",
    "    pos = np.argwhere(array==val)       # find the positions\n",
    "    print(array==val)\n",
    "    \n",
    "    return (val, pos)\n",
    "    \n",
    "X = np.array([[[3,0,3,4],[6,6,1,8],[5,3,5,0]],[[3,0,3,8],[7,3,2,7],[8,6,2,5]]])\n",
    "k_smallest(X,3)"
   ]
  },
  {
   "cell_type": "markdown",
   "metadata": {},
   "source": [
    "**Problem 3_Practice 2**\n",
    "\n",
    "Write a Python function that takes as its input a two-dimensional NumPy array and returns the subset array that consist of all the even rows (second, fourth, sixth row etc.) and all the odd columns (first, third, fifth etc.). "
   ]
  },
  {
   "cell_type": "code",
   "execution_count": 55,
   "metadata": {},
   "outputs": [
    {
     "data": {
      "text/plain": [
       "array([[5, 4]])"
      ]
     },
     "execution_count": 55,
     "metadata": {},
     "output_type": "execute_result"
    }
   ],
   "source": [
    "def even_odd(array):\n",
    "    return array[1::2,::2]\n",
    "\n",
    "even_odd(np.array([[3,1,3],[5,2,4]])) \n",
    "# return a sub-array consists of entries from the 2nd row, 1st&3rd columns"
   ]
  },
  {
   "cell_type": "markdown",
   "metadata": {},
   "source": [
    "**Problem 4_Practice 2**\n",
    "\n",
    "The following \"mystery\" function takes as its input a two-dimensional numerical NumPy array. Provide an example input X (X should be a two-dimensional NumPy array) for which the function returns the value 4. Your input array should not have constant entries. "
   ]
  },
  {
   "cell_type": "code",
   "execution_count": 83,
   "metadata": {},
   "outputs": [
    {
     "name": "stdout",
     "output_type": "stream",
     "text": [
      "[[[3 0 3 4]\n",
      "  [6 6 1 8]\n",
      "  [5 3 5 0]]\n",
      "\n",
      " [[3 0 3 8]\n",
      "  [7 3 2 7]\n",
      "  [8 6 2 5]]]\n",
      "[[3 0 1 0]\n",
      " [3 0 2 5]]\n"
     ]
    },
    {
     "data": {
      "text/plain": [
       "5"
      ]
     },
     "execution_count": 83,
     "metadata": {},
     "output_type": "execute_result"
    }
   ],
   "source": [
    "def mystery(array):\n",
    "    print(array)\n",
    "    print(array.min(axis=1))\n",
    "    return array.min(axis=1).max() \n",
    "\n",
    "# min() 如果不特殊说明 括号内内容 则是找所有最小\n",
    "# min(axis=1) 压缩到同一行 row\n",
    "\n",
    "mystery(np.array([[[3,0,3,4],[6,6,1,8],[5,3,5,0]],[[3,0,3,8],[7,3,2,7],[8,6,2,5]]]))"
   ]
  },
  {
   "cell_type": "markdown",
   "metadata": {},
   "source": [
    "**Problem 5_Practice 2**\n",
    "\n",
    "Write a Python function that takes as its input a two-dimensional Numpy array and returns an array of the same shape in which each row is standardized (has mean 0 and variance 1). "
   ]
  },
  {
   "cell_type": "code",
   "execution_count": 57,
   "metadata": {},
   "outputs": [
    {
     "data": {
      "text/plain": [
       "array([[[-1.33630621, -1.22474487,  0.        ,  0.        ],\n",
       "        [ 1.06904497,  1.22474487, -1.22474487,  1.22474487],\n",
       "        [ 0.26726124,  0.        ,  1.22474487, -1.22474487]],\n",
       "\n",
       "       [[-1.38873015, -1.22474487,  1.41421356,  1.06904497],\n",
       "        [ 0.46291005,  0.        , -0.70710678,  0.26726124],\n",
       "        [ 0.9258201 ,  1.22474487, -0.70710678, -1.33630621]]])"
      ]
     },
     "execution_count": 57,
     "metadata": {},
     "output_type": "execute_result"
    }
   ],
   "source": [
    "def standardize_array(array):\n",
    "    X = (array - array.mean(axis=1, keepdims=True))/array.std(axis=1, keepdims = True)\n",
    "    return X\n",
    "\n",
    "standardize_array(np.array([[[3,0,3,4],[6,6,1,8],[5,3,5,0]],[[3,0,3,8],[7,3,2,7],[8,6,2,5]]]) )"
   ]
  },
  {
   "cell_type": "markdown",
   "metadata": {},
   "source": [
    "**Problem 6_Practice 2**"
   ]
  },
  {
   "cell_type": "code",
   "execution_count": 84,
   "metadata": {},
   "outputs": [
    {
     "name": "stdout",
     "output_type": "stream",
     "text": [
      "[False False False  True]\n",
      "[False False False]\n",
      "True\n",
      "False\n"
     ]
    },
    {
     "data": {
      "text/plain": [
       "True"
      ]
     },
     "execution_count": 84,
     "metadata": {},
     "output_type": "execute_result"
    }
   ],
   "source": [
    "def mystery(X):\n",
    "    print(~X.any(axis=0))            # return True if any True (1) inside\n",
    "    print(~X.any(axis=1))\n",
    "    print((~X.any(axis=0)).any())   \n",
    "    print((~X.any(axis=1)).any())\n",
    "    return (~X.any(axis=0)).any()|(~X.any(axis=1)).any()\n",
    "\n",
    "mystery(np.array([[3,0,3,0],[6,6,1,0],[5,3,5,0]]))"
   ]
  },
  {
   "cell_type": "markdown",
   "metadata": {},
   "source": [
    "**Answer** The function checks whether the matrix X contains at least one column or one row filled entirely with either 0 or 'False'."
   ]
  },
  {
   "cell_type": "markdown",
   "metadata": {},
   "source": [
    "**Problem 7_Practice 2**\n",
    "\n",
    "Write a function called \"SMA\" that takes as its input a one-dimensional NumPy array $A$ and a window width $n$ (integer $\\ge 1$) and returns a one-dimensional NumPy array of the same size as $A$, whose entries are the simple moving averages over the sliding windows. That is, for window size n, the entry $x_i$ in position i would be replaced by mean$(x_{i-n}, \\ldots, x_i, \\ldots, x_{i+n})$. At the beginning and end of the array the windows have to be truncated. \n",
    "\n",
    "Example: SMA(np.array([1,2,3,4,3,5,6]),1) should be array([1.5,2,3,3.33,4,4.66,5.5]) when rounded to two after-decimal digits. "
   ]
  },
  {
   "cell_type": "code",
   "execution_count": 85,
   "metadata": {},
   "outputs": [
    {
     "data": {
      "text/plain": [
       "array([1.5 , 2.  , 3.  , 3.33, 4.  , 4.67, 5.5 ])"
      ]
     },
     "execution_count": 85,
     "metadata": {},
     "output_type": "execute_result"
    }
   ],
   "source": [
    "def SMA(array, n):                          # simple moving average\n",
    "    output = np.zeros(len(array))           # create the same length array as A\n",
    "    for i in range(len(array)):             # the entry in ith position will be replaced \n",
    "        left = max(i-n,0)                   # index left side  保证不越界\n",
    "        right = min(i+1+n,len(array))       # index right side 保证不越界\n",
    "        output[i]=np.mean(array[left:right])# calculate the SMA for each entry \n",
    "    return output\n",
    "\n",
    "A = np.array([1,2,3,4,3,5,6])\n",
    "np.round_(SMA(A,1),2)"
   ]
  },
  {
   "cell_type": "markdown",
   "metadata": {},
   "source": [
    "**Problem 8_Practice 2**\n",
    "\n",
    "Write a function called \"top_two\" that takes a Pandas series as its input, leaves the two most frequently appearing elements unchanged, and replaces all other elements with \"Other\". Return the result in the form of a new Pandas series object. What is the data type in your returned series? "
   ]
  },
  {
   "cell_type": "code",
   "execution_count": 86,
   "metadata": {},
   "outputs": [
    {
     "data": {
      "text/plain": [
       "0         2\n",
       "1         2\n",
       "2         1\n",
       "3     Other\n",
       "4         1\n",
       "5         2\n",
       "6     Other\n",
       "7         1\n",
       "8         2\n",
       "9         2\n",
       "10        1\n",
       "11        2\n",
       "dtype: object"
      ]
     },
     "execution_count": 86,
     "metadata": {},
     "output_type": "execute_result"
    }
   ],
   "source": [
    "def top_two(ser):\n",
    "    ser[~ser.isin(ser.value_counts().index[:2])] = 'Other'\n",
    "    return ser\n",
    "    \n",
    "# Example\n",
    "np.random.seed(10)\n",
    "ser = pd.Series(np.random.randint(1, 5, [12]))\n",
    "\n",
    "top_two(ser)\n"
   ]
  },
  {
   "cell_type": "markdown",
   "metadata": {},
   "source": [
    "**Problem 9_Practice 2**\n",
    "\n",
    "Write a function called \"letter_count\" that does the following: Take a Pandas series of string objects as the input. Assume that the strings are all individual words (no punctuation, all lower-case). Return a Pandas Data Frame that contains the following columns:\n",
    "* the original words from the Series\n",
    "* the count of letters in each word\n",
    "* a Boolean variable that evaluates to \"True\" if the word contains the letter sequence \"ing\""
   ]
  },
  {
   "cell_type": "code",
   "execution_count": 82,
   "metadata": {},
   "outputs": [
    {
     "data": {
      "text/html": [
       "<div>\n",
       "<style scoped>\n",
       "    .dataframe tbody tr th:only-of-type {\n",
       "        vertical-align: middle;\n",
       "    }\n",
       "\n",
       "    .dataframe tbody tr th {\n",
       "        vertical-align: top;\n",
       "    }\n",
       "\n",
       "    .dataframe thead th {\n",
       "        text-align: right;\n",
       "    }\n",
       "</style>\n",
       "<table border=\"1\" class=\"dataframe\">\n",
       "  <thead>\n",
       "    <tr style=\"text-align: right;\">\n",
       "      <th></th>\n",
       "      <th>word</th>\n",
       "      <th>count</th>\n",
       "      <th>contains \"ing\"</th>\n",
       "    </tr>\n",
       "  </thead>\n",
       "  <tbody>\n",
       "    <tr>\n",
       "      <th>0</th>\n",
       "      <td>something</td>\n",
       "      <td>9</td>\n",
       "      <td>True</td>\n",
       "    </tr>\n",
       "    <tr>\n",
       "      <th>1</th>\n",
       "      <td>foo</td>\n",
       "      <td>3</td>\n",
       "      <td>False</td>\n",
       "    </tr>\n",
       "    <tr>\n",
       "      <th>2</th>\n",
       "      <td>bar</td>\n",
       "      <td>3</td>\n",
       "      <td>False</td>\n",
       "    </tr>\n",
       "  </tbody>\n",
       "</table>\n",
       "</div>"
      ],
      "text/plain": [
       "        word  count  contains \"ing\"\n",
       "0  something      9            True\n",
       "1        foo      3           False\n",
       "2        bar      3           False"
      ]
     },
     "execution_count": 82,
     "metadata": {},
     "output_type": "execute_result"
    }
   ],
   "source": [
    "def letter_count(ser):\n",
    "    count = [len(word) for word in ser]         # create the 'count' list \n",
    "    ing = [word.find(\"ing\")>-1 for word in ser] # create the 'ing' list \n",
    "    df = pd.DataFrame({'word':ser, 'count':count, 'contains \"ing\"':ing})\n",
    "    return df\n",
    "\n",
    "letter_count(pd.Series(['something', \"foo\", 'bar']))"
   ]
  },
  {
   "cell_type": "code",
   "execution_count": null,
   "metadata": {},
   "outputs": [],
   "source": []
  }
 ],
 "metadata": {
  "kernelspec": {
   "display_name": "Python 3",
   "language": "python",
   "name": "python3"
  },
  "language_info": {
   "codemirror_mode": {
    "name": "ipython",
    "version": 3
   },
   "file_extension": ".py",
   "mimetype": "text/x-python",
   "name": "python",
   "nbconvert_exporter": "python",
   "pygments_lexer": "ipython3",
   "version": "3.7.4"
  }
 },
 "nbformat": 4,
 "nbformat_minor": 2
}
