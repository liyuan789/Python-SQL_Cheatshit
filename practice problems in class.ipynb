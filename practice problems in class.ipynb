{
 "cells": [
  {
   "cell_type": "markdown",
   "metadata": {},
   "source": [
    "## In-Class Problem Set 2\n",
    "\n",
    "**Problem:** Remove duplicates from a list but keep items in the original order. \n",
    "\n",
    "**Examples:**\n",
    "<br>$[4,23,5,6,13,23,5,7]$ becomes $[4,23,5,6,13,7]$\n",
    "<br>$[4,4,4,2,7]$ becomes $[4,2,7]$\n",
    "\n",
    "If you feel up to it, write your code as a function that accepts the long list as an argument and returns the list with duplicates removed. "
   ]
  },
  {
   "cell_type": "code",
   "execution_count": 4,
   "metadata": {},
   "outputs": [
    {
     "name": "stdout",
     "output_type": "stream",
     "text": [
      "[4, 23, 5, 6, 13, 7]\n"
     ]
    }
   ],
   "source": [
    "y = []\n",
    "x = [4,23,5,6,13,23,5,7]\n",
    "for i in x:\n",
    "    if i not in y:\n",
    "        y.append(i)\n",
    "    else:\n",
    "        y = y\n",
    "print(y)"
   ]
  },
  {
   "cell_type": "markdown",
   "metadata": {},
   "source": [
    "## In-Class Problem Set 3\n",
    "\n",
    "**Problem:** Given a dictionary that contains names of people as keys and their ages (in integer format) as values, write a function that finds the name (or names) as a list of the second oldest person (or persons if there is a tie).\n",
    "\n",
    "**Hint:** In Python, there is dictionary comprehension,which is very similar to list comprehension. There are three different variants of dictionary comprehension. You can work with just keys, just values or with key-value parirs. Basic syntac can look like this: \n",
    "\n",
    "**Examples:** \n",
    "<br>{'Adam': 12, 'Betsy': 11, 'Charles': 13, 'David': 15, 'Emma': 13} should result in ['Charles', 'Emma'] \n",
    "<br>since Charles and Emma are tied in age and the second-oldest in this group. Note, that the oldest age may appear more than once."
   ]
  },
  {
   "cell_type": "markdown",
   "metadata": {},
   "source": [
    "**Example_1**"
   ]
  },
  {
   "cell_type": "code",
   "execution_count": 1,
   "metadata": {},
   "outputs": [
    {
     "data": {
      "text/plain": [
       "{'boba': 64, 'anakin': 84, 'yoda': 1792}"
      ]
     },
     "execution_count": 1,
     "metadata": {},
     "output_type": "execute_result"
    }
   ],
   "source": [
    "d2 = {'Luke':19, 'Boba':32, 'Leia':19,'Anakin':42, 'Yoda':896}\n",
    "{name.lower(): 2*age for (name,age) in d2.items() if age>21}"
   ]
  },
  {
   "cell_type": "markdown",
   "metadata": {},
   "source": [
    "**Example_2**"
   ]
  },
  {
   "cell_type": "code",
   "execution_count": 3,
   "metadata": {},
   "outputs": [
    {
     "data": {
      "text/plain": [
       "[25, 21, 23, 25, 23]"
      ]
     },
     "execution_count": 3,
     "metadata": {},
     "output_type": "execute_result"
    }
   ],
   "source": [
    "d1 = {'Adam':15, 'Betsy':11, 'Charles':13, 'David':15, 'Emma':13}\n",
    "[age+10 for age in d1.values() if age%2!=0]"
   ]
  },
  {
   "cell_type": "code",
   "execution_count": 5,
   "metadata": {},
   "outputs": [
    {
     "data": {
      "text/plain": [
       "['Charles', 'Emma']"
      ]
     },
     "execution_count": 5,
     "metadata": {},
     "output_type": "execute_result"
    }
   ],
   "source": [
    "# Way_1: for loop\n",
    "def sec_old(dic):\n",
    "    ls = []\n",
    "    age = sorted(set(dic.values()))[-2]\n",
    "    for name in dic.keys():\n",
    "        if dic[name] == age:\n",
    "            ls.append(name)\n",
    "    return ls\n",
    "sec_old(d1)"
   ]
  },
  {
   "cell_type": "code",
   "execution_count": 7,
   "metadata": {},
   "outputs": [
    {
     "data": {
      "text/plain": [
       "['Charles', 'Emma']"
      ]
     },
     "execution_count": 7,
     "metadata": {},
     "output_type": "execute_result"
    }
   ],
   "source": [
    "# Way2: dictionary comprehension\n",
    "def sec_old_com(dic):\n",
    "    return [name for (name,age) in dic.items() if d1[name]==sorted(set(dic.values()))[-2]]\n",
    "sec_old_com(d1)"
   ]
  },
  {
   "cell_type": "markdown",
   "metadata": {},
   "source": [
    "## In-Class Problem Set 4\n",
    "\n",
    "**Problem:** Write a function that includes n zeros between each of the values in a given one-dimensional NumPy array. \n",
    "\n",
    "Example: \n",
    "\n",
    "array([3,4,6,2,4,8]) would become array([3,0,0,4,0,0,6,0,0,2,0,0,4,0,0,8]) for p=2. \n",
    "\n",
    "array([1., 2., 5., 1.]) would become array([1., 0., 0., 0., 2., 0., 0., 0., 5., 0., 0., 0., 1.]) for p=3 \n",
    "\n",
    "(note the different data type in this latter case). "
   ]
  },
  {
   "cell_type": "code",
   "execution_count": 22,
   "metadata": {},
   "outputs": [
    {
     "name": "stdout",
     "output_type": "stream",
     "text": [
      "True\n",
      "True\n"
     ]
    }
   ],
   "source": [
    "import numpy as np\n",
    "\n",
    "x = np.array([3,4,6,2,4,8])\n",
    "y = np.array([1., 2., 5., 1.])\n",
    "# feel free to create your own array for development, too\n",
    "\n",
    "def insert_zeros(x,p):\n",
    "    \"\"\"Function creates p zeros each of appropriate data type between values in X\"\"\"\n",
    "    data_type = x.dtype                                        # find data type of entries in x\n",
    "    new_array = np.zeros(len(x)+p*(len(x)-1), dtype=data_type) # create matrix of zeros to hold x and enough zeros\n",
    "    new_array[::p+1] = x                                       # populate every p+1st entry with values in x\n",
    "    return new_array\n",
    "\n",
    "# check your work when you're done\n",
    "print(np.array_equal(insert_zeros(x,2), np.array([3, 0, 0, 4, 0, 0, 6, 0, 0, 2, 0, 0, 4, 0, 0, 8])))\n",
    "print(np.array_equal(insert_zeros(y,3), np.array([1., 0., 0., 0., 2., 0., 0., 0., 5., 0., 0., 0., 1.])))"
   ]
  },
  {
   "cell_type": "markdown",
   "metadata": {},
   "source": [
    "**Problem:** Consider the two NumPy \"mini\"-arrays A and B we worked with in class, previously. Stack A and B to make a 2-by-2-by2 array - that is, stack them on top of each other, one array per slice, A in front."
   ]
  },
  {
   "cell_type": "code",
   "execution_count": 38,
   "metadata": {},
   "outputs": [
    {
     "data": {
      "text/plain": [
       "array([[[1, 1],\n",
       "        [1, 1]],\n",
       "\n",
       "       [[2, 2],\n",
       "        [2, 2]]])"
      ]
     },
     "execution_count": 38,
     "metadata": {},
     "output_type": "execute_result"
    }
   ],
   "source": [
    "A = np.array([[1,1],[1,1]])\n",
    "B = np.array([[2,2],[2,2]])\n",
    "\n",
    "np.concatenate([A[np.newaxis,:,:], B[np.newaxis,:,:]],axis=0)  # add slice-dimension first, then stack them slicewise"
   ]
  },
  {
   "cell_type": "code",
   "execution_count": 3,
   "metadata": {},
   "outputs": [
    {
     "data": {
      "text/plain": [
       "10"
      ]
     },
     "execution_count": 3,
     "metadata": {},
     "output_type": "execute_result"
    }
   ],
   "source": [
    "prices = [6,0,-1,10]\n",
    "prices[len(prices)-1]"
   ]
  },
  {
   "cell_type": "code",
   "execution_count": null,
   "metadata": {},
   "outputs": [],
   "source": [
    "import pandas as pd\n",
    "import numpy as np\n",
    "\n",
    "letters = 'abcdefghijklmnopqrstuvwxyz'\n",
    "numbers = range(1,27)\n",
    "\n",
    "df = pd.DataFrame({'Letter':[let for let in letters], 'Number':numbers})\n",
    "new = df.groupby(['Letter'])\n",
    "vowels = ['a','e','i','o','u']\n",
    "vowels = ['a','e','i','o','u']"
   ]
  },
  {
   "cell_type": "markdown",
   "metadata": {},
   "source": [
    "\n",
    "## In-Class Problem Set 5\n",
    "\n",
    "**Problem:** Construct a Pandas Data Frame. In one columns should be the letters in the English alphabet and in the other column should be the integers 1,..,26."
   ]
  },
  {
   "cell_type": "code",
   "execution_count": 1,
   "metadata": {},
   "outputs": [
    {
     "data": {
      "text/html": [
       "<div>\n",
       "<style scoped>\n",
       "    .dataframe tbody tr th:only-of-type {\n",
       "        vertical-align: middle;\n",
       "    }\n",
       "\n",
       "    .dataframe tbody tr th {\n",
       "        vertical-align: top;\n",
       "    }\n",
       "\n",
       "    .dataframe thead th {\n",
       "        text-align: right;\n",
       "    }\n",
       "</style>\n",
       "<table border=\"1\" class=\"dataframe\">\n",
       "  <thead>\n",
       "    <tr style=\"text-align: right;\">\n",
       "      <th></th>\n",
       "      <th>Letters</th>\n",
       "      <th>Numbers</th>\n",
       "    </tr>\n",
       "  </thead>\n",
       "  <tbody>\n",
       "    <tr>\n",
       "      <td>0</td>\n",
       "      <td>a</td>\n",
       "      <td>1</td>\n",
       "    </tr>\n",
       "    <tr>\n",
       "      <td>1</td>\n",
       "      <td>b</td>\n",
       "      <td>2</td>\n",
       "    </tr>\n",
       "    <tr>\n",
       "      <td>2</td>\n",
       "      <td>c</td>\n",
       "      <td>3</td>\n",
       "    </tr>\n",
       "    <tr>\n",
       "      <td>3</td>\n",
       "      <td>d</td>\n",
       "      <td>4</td>\n",
       "    </tr>\n",
       "    <tr>\n",
       "      <td>4</td>\n",
       "      <td>e</td>\n",
       "      <td>5</td>\n",
       "    </tr>\n",
       "    <tr>\n",
       "      <td>5</td>\n",
       "      <td>f</td>\n",
       "      <td>6</td>\n",
       "    </tr>\n",
       "    <tr>\n",
       "      <td>6</td>\n",
       "      <td>g</td>\n",
       "      <td>7</td>\n",
       "    </tr>\n",
       "    <tr>\n",
       "      <td>7</td>\n",
       "      <td>h</td>\n",
       "      <td>8</td>\n",
       "    </tr>\n",
       "    <tr>\n",
       "      <td>8</td>\n",
       "      <td>i</td>\n",
       "      <td>9</td>\n",
       "    </tr>\n",
       "    <tr>\n",
       "      <td>9</td>\n",
       "      <td>j</td>\n",
       "      <td>10</td>\n",
       "    </tr>\n",
       "    <tr>\n",
       "      <td>10</td>\n",
       "      <td>k</td>\n",
       "      <td>11</td>\n",
       "    </tr>\n",
       "    <tr>\n",
       "      <td>11</td>\n",
       "      <td>l</td>\n",
       "      <td>12</td>\n",
       "    </tr>\n",
       "    <tr>\n",
       "      <td>12</td>\n",
       "      <td>m</td>\n",
       "      <td>13</td>\n",
       "    </tr>\n",
       "    <tr>\n",
       "      <td>13</td>\n",
       "      <td>n</td>\n",
       "      <td>14</td>\n",
       "    </tr>\n",
       "    <tr>\n",
       "      <td>14</td>\n",
       "      <td>o</td>\n",
       "      <td>15</td>\n",
       "    </tr>\n",
       "    <tr>\n",
       "      <td>15</td>\n",
       "      <td>p</td>\n",
       "      <td>16</td>\n",
       "    </tr>\n",
       "    <tr>\n",
       "      <td>16</td>\n",
       "      <td>q</td>\n",
       "      <td>17</td>\n",
       "    </tr>\n",
       "    <tr>\n",
       "      <td>17</td>\n",
       "      <td>r</td>\n",
       "      <td>18</td>\n",
       "    </tr>\n",
       "    <tr>\n",
       "      <td>18</td>\n",
       "      <td>s</td>\n",
       "      <td>19</td>\n",
       "    </tr>\n",
       "    <tr>\n",
       "      <td>19</td>\n",
       "      <td>t</td>\n",
       "      <td>20</td>\n",
       "    </tr>\n",
       "    <tr>\n",
       "      <td>20</td>\n",
       "      <td>u</td>\n",
       "      <td>21</td>\n",
       "    </tr>\n",
       "    <tr>\n",
       "      <td>21</td>\n",
       "      <td>v</td>\n",
       "      <td>22</td>\n",
       "    </tr>\n",
       "    <tr>\n",
       "      <td>22</td>\n",
       "      <td>w</td>\n",
       "      <td>23</td>\n",
       "    </tr>\n",
       "    <tr>\n",
       "      <td>23</td>\n",
       "      <td>x</td>\n",
       "      <td>24</td>\n",
       "    </tr>\n",
       "    <tr>\n",
       "      <td>24</td>\n",
       "      <td>y</td>\n",
       "      <td>25</td>\n",
       "    </tr>\n",
       "    <tr>\n",
       "      <td>25</td>\n",
       "      <td>z</td>\n",
       "      <td>26</td>\n",
       "    </tr>\n",
       "  </tbody>\n",
       "</table>\n",
       "</div>"
      ],
      "text/plain": [
       "   Letters  Numbers\n",
       "0        a        1\n",
       "1        b        2\n",
       "2        c        3\n",
       "3        d        4\n",
       "4        e        5\n",
       "5        f        6\n",
       "6        g        7\n",
       "7        h        8\n",
       "8        i        9\n",
       "9        j       10\n",
       "10       k       11\n",
       "11       l       12\n",
       "12       m       13\n",
       "13       n       14\n",
       "14       o       15\n",
       "15       p       16\n",
       "16       q       17\n",
       "17       r       18\n",
       "18       s       19\n",
       "19       t       20\n",
       "20       u       21\n",
       "21       v       22\n",
       "22       w       23\n",
       "23       x       24\n",
       "24       y       25\n",
       "25       z       26"
      ]
     },
     "execution_count": 1,
     "metadata": {},
     "output_type": "execute_result"
    }
   ],
   "source": [
    "import numpy as np\n",
    "import pandas as pd\n",
    "\n",
    "letters = 'abcdefghijklmnopqrstuvwxyz'\n",
    "numbers = range(1,27)\n",
    "\n",
    "df = pd.DataFrame({'Letters':list(letters), 'Numbers':numbers})\n",
    "df"
   ]
  },
  {
   "cell_type": "markdown",
   "metadata": {},
   "source": [
    "**Problem:** Set the letters as the index and find the average rank of the vowels using Pandas."
   ]
  },
  {
   "cell_type": "code",
   "execution_count": 2,
   "metadata": {},
   "outputs": [
    {
     "data": {
      "text/plain": [
       "10.2"
      ]
     },
     "execution_count": 2,
     "metadata": {},
     "output_type": "execute_result"
    }
   ],
   "source": [
    "df = pd.DataFrame({'Letters':list(letters), 'Numbers':numbers})\n",
    "df.set_index(['Letters'], inplace = True)\n",
    "df\n",
    "df.loc[['a','e','i','o','u']].Numbers.mean()"
   ]
  },
  {
   "cell_type": "markdown",
   "metadata": {},
   "source": [
    "## In-Class Problem Set 6\n",
    "**Problem:** Consider the following data on results (think test values) for six different people at four different time points. We have information on the patients (anonymized), their gender, and their test results. "
   ]
  },
  {
   "cell_type": "code",
   "execution_count": 1,
   "metadata": {},
   "outputs": [
    {
     "data": {
      "text/html": [
       "<div>\n",
       "<style scoped>\n",
       "    .dataframe tbody tr th:only-of-type {\n",
       "        vertical-align: middle;\n",
       "    }\n",
       "\n",
       "    .dataframe tbody tr th {\n",
       "        vertical-align: top;\n",
       "    }\n",
       "\n",
       "    .dataframe thead th {\n",
       "        text-align: right;\n",
       "    }\n",
       "</style>\n",
       "<table border=\"1\" class=\"dataframe\">\n",
       "  <thead>\n",
       "    <tr style=\"text-align: right;\">\n",
       "      <th></th>\n",
       "      <th>Patient</th>\n",
       "      <th>Time</th>\n",
       "      <th>Gender</th>\n",
       "      <th>Result</th>\n",
       "    </tr>\n",
       "  </thead>\n",
       "  <tbody>\n",
       "    <tr>\n",
       "      <td>0</td>\n",
       "      <td>1</td>\n",
       "      <td>1</td>\n",
       "      <td>F</td>\n",
       "      <td>1</td>\n",
       "    </tr>\n",
       "    <tr>\n",
       "      <td>1</td>\n",
       "      <td>1</td>\n",
       "      <td>2</td>\n",
       "      <td>F</td>\n",
       "      <td>4</td>\n",
       "    </tr>\n",
       "    <tr>\n",
       "      <td>2</td>\n",
       "      <td>1</td>\n",
       "      <td>3</td>\n",
       "      <td>F</td>\n",
       "      <td>5</td>\n",
       "    </tr>\n",
       "    <tr>\n",
       "      <td>3</td>\n",
       "      <td>1</td>\n",
       "      <td>4</td>\n",
       "      <td>F</td>\n",
       "      <td>5</td>\n",
       "    </tr>\n",
       "    <tr>\n",
       "      <td>4</td>\n",
       "      <td>2</td>\n",
       "      <td>1</td>\n",
       "      <td>F</td>\n",
       "      <td>1</td>\n",
       "    </tr>\n",
       "    <tr>\n",
       "      <td>5</td>\n",
       "      <td>2</td>\n",
       "      <td>2</td>\n",
       "      <td>F</td>\n",
       "      <td>5</td>\n",
       "    </tr>\n",
       "    <tr>\n",
       "      <td>6</td>\n",
       "      <td>2</td>\n",
       "      <td>3</td>\n",
       "      <td>F</td>\n",
       "      <td>5</td>\n",
       "    </tr>\n",
       "    <tr>\n",
       "      <td>7</td>\n",
       "      <td>2</td>\n",
       "      <td>4</td>\n",
       "      <td>F</td>\n",
       "      <td>5</td>\n",
       "    </tr>\n",
       "    <tr>\n",
       "      <td>8</td>\n",
       "      <td>3</td>\n",
       "      <td>1</td>\n",
       "      <td>F</td>\n",
       "      <td>1</td>\n",
       "    </tr>\n",
       "    <tr>\n",
       "      <td>9</td>\n",
       "      <td>3</td>\n",
       "      <td>2</td>\n",
       "      <td>F</td>\n",
       "      <td>5</td>\n",
       "    </tr>\n",
       "    <tr>\n",
       "      <td>10</td>\n",
       "      <td>3</td>\n",
       "      <td>3</td>\n",
       "      <td>F</td>\n",
       "      <td>4</td>\n",
       "    </tr>\n",
       "    <tr>\n",
       "      <td>11</td>\n",
       "      <td>3</td>\n",
       "      <td>4</td>\n",
       "      <td>F</td>\n",
       "      <td>4</td>\n",
       "    </tr>\n",
       "    <tr>\n",
       "      <td>12</td>\n",
       "      <td>4</td>\n",
       "      <td>1</td>\n",
       "      <td>M</td>\n",
       "      <td>1</td>\n",
       "    </tr>\n",
       "    <tr>\n",
       "      <td>13</td>\n",
       "      <td>4</td>\n",
       "      <td>2</td>\n",
       "      <td>M</td>\n",
       "      <td>6</td>\n",
       "    </tr>\n",
       "    <tr>\n",
       "      <td>14</td>\n",
       "      <td>4</td>\n",
       "      <td>3</td>\n",
       "      <td>M</td>\n",
       "      <td>6</td>\n",
       "    </tr>\n",
       "    <tr>\n",
       "      <td>15</td>\n",
       "      <td>4</td>\n",
       "      <td>4</td>\n",
       "      <td>M</td>\n",
       "      <td>7</td>\n",
       "    </tr>\n",
       "    <tr>\n",
       "      <td>16</td>\n",
       "      <td>5</td>\n",
       "      <td>1</td>\n",
       "      <td>M</td>\n",
       "      <td>2</td>\n",
       "    </tr>\n",
       "    <tr>\n",
       "      <td>17</td>\n",
       "      <td>5</td>\n",
       "      <td>2</td>\n",
       "      <td>M</td>\n",
       "      <td>7</td>\n",
       "    </tr>\n",
       "    <tr>\n",
       "      <td>18</td>\n",
       "      <td>5</td>\n",
       "      <td>3</td>\n",
       "      <td>M</td>\n",
       "      <td>6</td>\n",
       "    </tr>\n",
       "    <tr>\n",
       "      <td>19</td>\n",
       "      <td>5</td>\n",
       "      <td>4</td>\n",
       "      <td>M</td>\n",
       "      <td>8</td>\n",
       "    </tr>\n",
       "    <tr>\n",
       "      <td>20</td>\n",
       "      <td>6</td>\n",
       "      <td>1</td>\n",
       "      <td>M</td>\n",
       "      <td>2</td>\n",
       "    </tr>\n",
       "    <tr>\n",
       "      <td>21</td>\n",
       "      <td>6</td>\n",
       "      <td>2</td>\n",
       "      <td>M</td>\n",
       "      <td>7</td>\n",
       "    </tr>\n",
       "    <tr>\n",
       "      <td>22</td>\n",
       "      <td>6</td>\n",
       "      <td>3</td>\n",
       "      <td>M</td>\n",
       "      <td>8</td>\n",
       "    </tr>\n",
       "    <tr>\n",
       "      <td>23</td>\n",
       "      <td>6</td>\n",
       "      <td>4</td>\n",
       "      <td>M</td>\n",
       "      <td>6</td>\n",
       "    </tr>\n",
       "  </tbody>\n",
       "</table>\n",
       "</div>"
      ],
      "text/plain": [
       "    Patient  Time Gender  Result\n",
       "0         1     1      F       1\n",
       "1         1     2      F       4\n",
       "2         1     3      F       5\n",
       "3         1     4      F       5\n",
       "4         2     1      F       1\n",
       "5         2     2      F       5\n",
       "6         2     3      F       5\n",
       "7         2     4      F       5\n",
       "8         3     1      F       1\n",
       "9         3     2      F       5\n",
       "10        3     3      F       4\n",
       "11        3     4      F       4\n",
       "12        4     1      M       1\n",
       "13        4     2      M       6\n",
       "14        4     3      M       6\n",
       "15        4     4      M       7\n",
       "16        5     1      M       2\n",
       "17        5     2      M       7\n",
       "18        5     3      M       6\n",
       "19        5     4      M       8\n",
       "20        6     1      M       2\n",
       "21        6     2      M       7\n",
       "22        6     3      M       8\n",
       "23        6     4      M       6"
      ]
     },
     "execution_count": 1,
     "metadata": {},
     "output_type": "execute_result"
    }
   ],
   "source": [
    "import pandas as pd\n",
    "import numpy as np\n",
    "import matplotlib.pyplot as plt\n",
    "\n",
    "Patient = np.array([[i]*4 for i in range(1,7)]).reshape(24)\n",
    "Time = np.array([1,2,3,4]*6)\n",
    "Gender = np.array(['F']*12 + ['M']*12)\n",
    "Result = np.array([1, 4, 5, 5, 1, 5, 5, 5, 1, 5, 4, 4, 1, 6, 6, 7, 2, 7, 6, 8, 2, 7, 8, 6])\n",
    "\n",
    "data = pd.DataFrame({'Patient' : Patient, 'Time':Time, 'Gender': Gender, 'Result': Result})\n",
    "data"
   ]
  },
  {
   "cell_type": "code",
   "execution_count": 2,
   "metadata": {},
   "outputs": [
    {
     "data": {
      "image/png": "[encoded data removed]",
      "text/plain": [
       "<Figure size 432x288 with 1 Axes>"
      ]
     },
     "metadata": {
      "needs_background": "light"
     },
     "output_type": "display_data"
    }
   ],
   "source": [
    "data[Patient==1].Result\n",
    "\n",
    "for i in range(1,7):\n",
    "    plt.plot(data[Patient==i].Time, data[Patient==i].Result)\n"
   ]
  },
  {
   "cell_type": "code",
   "execution_count": 3,
   "metadata": {},
   "outputs": [
    {
     "data": {
      "image/png": "[encoded data removed]",
      "text/plain": [
       "<Figure size 432x288 with 1 Axes>"
      ]
     },
     "metadata": {
      "needs_background": "light"
     },
     "output_type": "display_data"
    }
   ],
   "source": [
    "fig = plt.figure() \n",
    "ax = plt.axes()\n",
    "\n",
    "for patient in range(1,7):\n",
    "    ax.plot(data[Patient==patient].Time, data[Patient==patient].Result);\n",
    "\n",
    "# fig.savefig('In-Class-Prob-6_Figure-1.png')"
   ]
  },
  {
   "cell_type": "code",
   "execution_count": 4,
   "metadata": {},
   "outputs": [
    {
     "data": {
      "text/plain": [
       "Text(0, 0.5, 'Result')"
      ]
     },
     "execution_count": 4,
     "metadata": {},
     "output_type": "execute_result"
    },
    {
     "data": {
      "image/png": "[encoded data removed]",
      "text/plain": [
       "<Figure size 432x288 with 1 Axes>"
      ]
     },
     "metadata": {
      "needs_background": "light"
     },
     "output_type": "display_data"
    }
   ],
   "source": [
    "fig = plt.figure() \n",
    "ax = plt.axes()\n",
    "\n",
    "for patient in range(1,7):\n",
    "    ax.plot(data[Patient==patient].Time, data[Patient==patient].Result)\n",
    "    \n",
    "ax.set_xlabel('Time Point')\n",
    "ax.set_ylabel('Result')\n",
    "\n",
    "#fig.savefig('In-Class-Prob-6_Figure-2.png')"
   ]
  },
  {
   "cell_type": "code",
   "execution_count": 5,
   "metadata": {},
   "outputs": [
    {
     "data": {
      "image/png": "[encoded data removed]",
      "text/plain": [
       "<Figure size 432x288 with 1 Axes>"
      ]
     },
     "metadata": {
      "needs_background": "light"
     },
     "output_type": "display_data"
    }
   ],
   "source": [
    "fig = plt.figure() \n",
    "ax = plt.axes()\n",
    "\n",
    "for patient in range(1,7):\n",
    "    if data[Patient==patient].Gender.values[0]=='F':\n",
    "        col = 'red'\n",
    "    else:\n",
    "        col = 'blue'\n",
    "    ax.plot(data[Patient==patient].Time, data[Patient==patient].Result, color = col)\n",
    "\n",
    "ax.set_xlabel('Time Point')\n",
    "ax.set_ylabel('Result');\n",
    "\n",
    "#fig.savefig('In-Class-Prob-6_Figure-3.png')"
   ]
  },
  {
   "cell_type": "code",
   "execution_count": 6,
   "metadata": {},
   "outputs": [
    {
     "data": {
      "image/png": "[encoded data removed]",
      "text/plain": [
       "<Figure size 432x288 with 1 Axes>"
      ]
     },
     "metadata": {
      "needs_background": "light"
     },
     "output_type": "display_data"
    }
   ],
   "source": [
    "fig = plt.figure() \n",
    "ax = plt.axes()\n",
    "\n",
    "style = ['solid', 'dashed', 'dotted']*2\n",
    "\n",
    "for patient in range(1,7):\n",
    "    if data[Patient==patient].Gender.values[0]=='F':\n",
    "        col = 'red'\n",
    "    else:\n",
    "        col = 'blue'\n",
    "    ax.plot(data[Patient==patient].Time, data[Patient==patient].Result, color = col, linestyle = style[patient-1])\n",
    "\n",
    "ax.set_xlabel('Time Point')\n",
    "ax.set_ylabel('Result');\n",
    "\n",
    "#fig.savefig('In-Class-Prob-6_Figure-4.png')"
   ]
  },
  {
   "cell_type": "code",
   "execution_count": 7,
   "metadata": {},
   "outputs": [
    {
     "data": {
      "image/png": "[encoded data removed]",
      "text/plain": [
       "<Figure size 432x288 with 1 Axes>"
      ]
     },
     "metadata": {
      "needs_background": "light"
     },
     "output_type": "display_data"
    }
   ],
   "source": [
    "fig = plt.figure() \n",
    "ax = plt.axes()\n",
    "\n",
    "style = ['solid', 'dashed', 'dotted']*2\n",
    "for patient in range(1,7):\n",
    "    if data[Patient==patient].Gender.values[0]=='F':\n",
    "        col = 'red'\n",
    "    else:\n",
    "        col = 'blue'\n",
    "    ax.plot(data[Patient==patient].Time, data[Patient==patient].Result, color = col, \n",
    "            linestyle = style[patient-1], label = 'Patient '+str(patient))\n",
    "\n",
    "ax.set_xlabel('Time Point')\n",
    "ax.set_ylabel('Result')\n",
    "ax.legend(loc='upper left', bbox_to_anchor=(1.05, 1)); # \n",
    "\n",
    "#fig.savefig('In-Class-Prob-6_Figure-5.png')"
   ]
  },
  {
   "cell_type": "code",
   "execution_count": 8,
   "metadata": {},
   "outputs": [
    {
     "data": {
      "image/png": "[encoded data removed]",
      "text/plain": [
       "<Figure size 432x288 with 1 Axes>"
      ]
     },
     "metadata": {
      "needs_background": "light"
     },
     "output_type": "display_data"
    }
   ],
   "source": [
    "fig = plt.figure() \n",
    "ax = plt.axes()\n",
    "\n",
    "style = ['solid', 'dashed', 'dotted']*2\n",
    "for patient in range(1,7):\n",
    "    if data[Patient==patient].Gender.values[0]=='F':\n",
    "        col = 'red'\n",
    "    else:\n",
    "        col = 'blue'\n",
    "    ax.plot(data[Patient==patient].Time, data[Patient==patient].Result, color = col, \n",
    "            linestyle = style[patient-1], label = 'Patient'+str(patient))\n",
    "\n",
    "ax.set_xlabel('Time Point')\n",
    "ax.set_ylabel('Result')\n",
    "ax.set_xticks(range(1,5))\n",
    "ax.legend(loc='upper left', bbox_to_anchor=(1, 1));\n",
    "\n",
    "#fig.savefig('In-Class-Prob-6_Figure-6.png')"
   ]
  },
  {
   "cell_type": "code",
   "execution_count": null,
   "metadata": {},
   "outputs": [],
   "source": []
  }
 ],
 "metadata": {
  "kernelspec": {
   "display_name": "Python 3",
   "language": "python",
   "name": "python3"
  },
  "language_info": {
   "codemirror_mode": {
    "name": "ipython",
    "version": 3
   },
   "file_extension": ".py",
   "mimetype": "text/x-python",
   "name": "python",
   "nbconvert_exporter": "python",
   "pygments_lexer": "ipython3",
   "version": "3.7.4"
  }
 },
 "nbformat": 4,
 "nbformat_minor": 2
}
