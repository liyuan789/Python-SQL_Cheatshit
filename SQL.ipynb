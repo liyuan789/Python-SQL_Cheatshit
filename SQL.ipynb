{
 "cells": [
  {
   "cell_type": "markdown",
   "metadata": {},
   "source": [
    "## Tutorials\n",
    "\n",
    "- At the command line, log in to MySQL as the root user:   \n",
    "```\n",
    "mysql -u root -p   (command statement)\n",
    "mysql-ctl cli      (goorim website)\n",
    "```\n",
    "check mysql.user ``` select Host,User,plugin from mysql.user; ```\n",
    "<br> create a database user ```  GRANT ALL PRIVILEGES ON *.* TO 'username'@'localhost' IDENTIFIED BY 'password'; ```\n",
    "use new username ```mysql -u username -p ```\n",
    "\n",
    "\n",
    "- To create a database, type the following command. \n",
    "<br> Replace dbname with the name of the database that you want to create:\n",
    "``` \n",
    "CREATE DATABASE dbname;\n",
    "```\n",
    "- To work with the new database, type the following command. \n",
    "<br> Replace dbname with the name of the database you created in step 5:\n",
    "```\n",
    "USE dbname;\n",
    "```\n",
    "- Work with the database.\n",
    "``` \n",
    "CREATE TABLE example ( \n",
    "    id smallint unsigned not null auto_increment, \n",
    "    name varchar(20) not null, \n",
    "    constraint pk_example primary key (id) \n",
    ");\n",
    "```\n",
    "```\n",
    "INSERT INTO example ( id, name ) VALUES ( null, 'Sample data' );\n",
    "```"
   ]
  },
  {
   "cell_type": "markdown",
   "metadata": {},
   "source": [
    "### Problem 1\n",
    "\n",
    "【Homework10】Find a list of the names of all products that were ordered on January 10th, 1996 together with names of the company who ordered the product and total order value. You can find the total order value by multiplying the unit price with the number of units ordered and multiplying the result with (1-Discount). Note: the \\`order details\\` table has two words in its name. Use \\`back-quotes\\` to communicate to MySQL that this is one name. \n",
    "\n",
    "```SELECT __,__,__ FROM products AS p \n",
    "INNER JOIN 'order details' AS od ON 【条件】\n",
    "INNER JOIN orders AS o ON 【条件】\n",
    "INNER JOIN customers AS c ON 【条件】\n",
    "WHERE 【specific item】;\n",
    "```\n",
    "    "
   ]
  },
  {
   "cell_type": "markdown",
   "metadata": {},
   "source": [
    "SQL code:\n",
    "\n",
    "```\n",
    "SELECT p.ProductName, c.CompanyName, od.UnitPrice * od.Quantity * (1-od.Discount) AS total_order\n",
    "FROM products as p INNER JOIN `order details` AS od\n",
    "ON p.ProductID = od.ProductID\n",
    "INNER JOIN orders AS o\n",
    "ON od.OrderID = o.OrderID\n",
    "INNER JOIN customers AS c\n",
    "ON c.CustomerID = o.CustomerID\n",
    "WHERE (o.OrderDate = '1996-01-10');\n",
    "```\n",
    "\n",
    "Answer: \n",
    "\n",
    "| ProductName              | CompanyName         | Total Order |\n",
    "|:--|:--|:--|\n",
    "| Fløtemysost              | Ernst Handel        |         344 |\n",
    "| Thüringer Rostbratwurst  | Lehmanns Marktstand |     2228.22 |\n",
    "| Raclette Courdavault     | Lehmanns Marktstand |        1375 |"
   ]
  },
  {
   "cell_type": "markdown",
   "metadata": {},
   "source": [
    "### Problem 2\n",
    "\n",
    "【Homework10】Find the company names of the three customers who spent the most in May 1996. List the company name along with the total amount spent (rounded to the second after-decimal digit of currency). Recall, that total amount spent on a single order can be computed as (unit price)\\*(number of units ordered)\\*(1-discount).\n",
    "\n",
    "```SELECT A,B FROM customers AS c\n",
    "INNER JOIN orders AS o ON 【条件】\n",
    "INNER JOIN 'order details' AS od ON 【条件】\n",
    "WHERE 【item1】 AND 【item2】\n",
    "GROUP BY A\n",
    "ORDER BY B DESC LIMIT 3;\n",
    "```"
   ]
  },
  {
   "cell_type": "markdown",
   "metadata": {},
   "source": [
    "SQL code:\n",
    "\n",
    "```\n",
    "SELECT c.CompanyName, SUM(od.UnitPrice*od.Quantity*(1-od.Discount)) as total\n",
    " FROM customers AS c INNER JOIN orders as o\n",
    " ON c.CustomerID = o.CustomerID\n",
    " INNER JOIN `order details` as od\n",
    " ON od.OrderID = o.OrderID\n",
    " WHERE o.OrderDate > '1996-04-30' AND o.OrderDate < '1996-06-01'\n",
    " GROUP BY c.CompanyName\n",
    " ORDER BY SUM(od.UnitPrice*od.Quantity*(1-od.Discount)) DESC;\n",
    " ```\n",
    " \n",
    " Answer:\n",
    " \n",
    " | Company Name                  | total amount spent             |\n",
    "|:--|:--|\n",
    "| Save-a-lot Markets           | 21150.05|\n",
    "| Ernst Handel                 | 15719.75 |\n",
    "| White Clover Markets         |            9831.25 |"
   ]
  },
  {
   "cell_type": "code",
   "execution_count": null,
   "metadata": {},
   "outputs": [],
   "source": []
  }
 ],
 "metadata": {
  "kernelspec": {
   "display_name": "Python 3",
   "language": "python",
   "name": "python3"
  },
  "language_info": {
   "codemirror_mode": {
    "name": "ipython",
    "version": 3
   },
   "file_extension": ".py",
   "mimetype": "text/x-python",
   "name": "python",
   "nbconvert_exporter": "python",
   "pygments_lexer": "ipython3",
   "version": "3.7.4"
  }
 },
 "nbformat": 4,
 "nbformat_minor": 2
}
